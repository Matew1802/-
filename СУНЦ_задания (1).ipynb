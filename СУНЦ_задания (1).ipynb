{
  "nbformat": 4,
  "nbformat_minor": 0,
  "metadata": {
    "colab": {
      "provenance": [],
      "collapsed_sections": [
        "V7O_w2OOtQCG",
        "dw7p5Af4uHnu"
      ]
    },
    "kernelspec": {
      "name": "python3",
      "display_name": "Python 3"
    },
    "language_info": {
      "name": "python"
    }
  },
  "cells": [
    {
      "cell_type": "markdown",
      "source": [],
      "metadata": {
        "id": "GEHfVuop8jxV"
      }
    },
    {
      "cell_type": "code",
      "execution_count": 139,
      "metadata": {
        "id": "btB7M6NPRpi_"
      },
      "outputs": [],
      "source": [
        "import numpy as np\n",
        "import pandas as pd\n",
        "import matplotlib.pyplot as plt\n",
        "from scipy.stats import shapiro\n",
        "from scipy.stats import norm, uniform, ks_1samp, levene\n",
        "from scipy.stats import ttest_ind, f_oneway"
      ]
    },
    {
      "cell_type": "markdown",
      "source": [
        "Файлы с данными лежат в папке по ссылке: https://drive.google.com/drive/folders/1N7M_yhakFID7gfPpBNmxPe1n1Aiy1rg2?usp=sharing"
      ],
      "metadata": {
        "id": "QH2GGTVPrjD-"
      }
    },
    {
      "cell_type": "markdown",
      "source": [
        "## Проверка нормальности\n",
        "### Задание 1\n",
        "Сгенерируйте два набора данных по 40 наблюдений:\n",
        "- Первый набор из нормального распределения N(2, 3)\n",
        "- Второй набор из равномерного распределения U(0, 10)\n",
        "\n",
        "С помощью функции `shapiro` библиотеки `scipy` выполните проверку нормальности для каждого набора данных. Проинтерпретируйте полученные результаты."
      ],
      "metadata": {
        "id": "UMtK_7gjryug"
      }
    },
    {
      "cell_type": "code",
      "source": [
        "np.random.seed(42)\n",
        "normal_data = np.random.normal(loc=2, scale=np.sqrt(3), size=40)\n",
        "uniform_data = np.random.uniform(low=0, high=10, size=40)\n",
        "\n",
        "shapiro_normal = shapiro(normal_data)\n",
        "shapiro_uniform = shapiro(uniform_data)\n",
        "print(f\"Нормальное распределение: статистика = {shapiro_normal.statistic:.4f}, p-value = {shapiro_normal.pvalue:.4f}\")\n",
        "print(f\"Равномерное распределение: статистика = {shapiro_uniform.statistic:.4f}, p-value = {shapiro_uniform.pvalue:.4f}\")\n",
        "\n",
        "if shapiro_normal.pvalue > 0.05:\n",
        "    print(\"Данные из нормального распределения НЕ противоречат гипотезе нормальности.\")\n",
        "else:\n",
        "    print(\"Данные из нормального распределения НЕ являются нормальными.\")\n",
        "\n",
        "if shapiro_uniform.pvalue > 0.05:\n",
        "    print(\"Данные из равномерного распределения выглядят как нормальные.\")\n",
        "else:\n",
        "    print(\"Данные из равномерного распределения НЕ являются нормальными.\")\n"
      ],
      "metadata": {
        "id": "Su0GdT3ZSWLB",
        "colab": {
          "base_uri": "https://localhost:8080/"
        },
        "outputId": "52b41940-7bf8-4ae0-fdcc-fdefbe572526"
      },
      "execution_count": 140,
      "outputs": [
        {
          "output_type": "stream",
          "name": "stdout",
          "text": [
            "Нормальное распределение: статистика = 0.9792, p-value = 0.6604\n",
            "Равномерное распределение: статистика = 0.9193, p-value = 0.0073\n",
            "Данные из нормального распределения НЕ противоречат гипотезе нормальности.\n",
            "Данные из равномерного распределения НЕ являются нормальными.\n"
          ]
        }
      ]
    },
    {
      "cell_type": "markdown",
      "source": [
        "### Задание 2\n",
        "\n",
        "Загрузите данные из файла `Предел текучести.xlsx`. Файл содержит замеры предела текучести для стали марки 09ГСФ при низком и высоком содержании ванадия.\n",
        "\n",
        "Можно ли считать данные в каждом из двух наборов нормально распределёнными?  \n"
      ],
      "metadata": {
        "id": "QNsA0P53skvW"
      }
    },
    {
      "cell_type": "code",
      "source": [
        "f = open(\"Предел текучести.csv\")\n",
        "s = f.readline()\n",
        "\n",
        "v_low = []\n",
        "v_high = []\n",
        "\n",
        "for i in f:\n",
        "  j = i.replace(',', '.')\n",
        "  j = j.split(';')\n",
        "  j = list(map(float, j))\n",
        "  v_low.append(j[0])\n",
        "  v_high.append(j[1])\n",
        "\n",
        "\n",
        "stat_low, p_value_low = shapiro(v_low)\n",
        "stat_high, p_value_high = shapiro(v_high)\n",
        "\n",
        "\n",
        "print(f\"Статистика теста: {stat_low}, p-value: {p_value_low}\")\n",
        "if p_value_low > 0.05:\n",
        "    print(\"Данные с низким содержанием ванадия НЕ противоречат гипотезе нормальности.\")\n",
        "else:\n",
        "    print(\"Данные с низким содержанием ванадия НЕ являются нормальными.\")\n",
        "\n",
        "print('\\n')\n",
        "print(f\"Статистика теста: {stat_high}, p-value: {p_value_high}\")\n",
        "if p_value_high > 0.05:\n",
        "    print(\"Данные с высоким содержанием ванадия НЕ противоречат гипотезе нормальности.\")\n",
        "else:\n",
        "    print(\"Данные с высоким содержанием ванадия НЕ являются нормальными.\")"
      ],
      "metadata": {
        "id": "6dM80sBsSzQP",
        "colab": {
          "base_uri": "https://localhost:8080/"
        },
        "outputId": "7a8cbfc6-1849-46e0-eb1d-487a0a710eea"
      },
      "execution_count": 141,
      "outputs": [
        {
          "output_type": "stream",
          "name": "stdout",
          "text": [
            "Статистика теста: 0.9885633669262366, p-value: 0.9070115996543543\n",
            "Данные с низким содержанием ванадия НЕ противоречат гипотезе нормальности.\n",
            "\n",
            "\n",
            "Статистика теста: 0.9647343609263991, p-value: 0.1403040598401531\n",
            "Данные с высоким содержанием ванадия НЕ противоречат гипотезе нормальности.\n"
          ]
        }
      ]
    },
    {
      "cell_type": "code",
      "source": [
        "# YOUR CODE HERE\n"
      ],
      "metadata": {
        "id": "H4tOBwjwcdqw"
      },
      "execution_count": null,
      "outputs": []
    },
    {
      "cell_type": "markdown",
      "source": [
        "## Подгонка распределений\n",
        "### Задание 3\n",
        "\n",
        "С помощью классов `norm` и `uniform` из `scipy.stats` осуществите подгонку двух этих распределений под данные с высоким содержанием ванадия. С помощью `ks_1samp` проведите тест Колмогорова-Смирнова для оценки точности подгонки. Какое из распределений удалось подогнать лучше?"
      ],
      "metadata": {
        "id": "V7O_w2OOtQCG"
      }
    },
    {
      "cell_type": "code",
      "source": [
        "data_high_vanadium = v_high\n",
        "params_norm = norm.fit(data_high_vanadium)\n",
        "print(f\"Параметры нормального распределения: mu={params_norm[0]}, sigma={params_norm[1]}\")\n",
        "\n",
        "params_uniform = uniform.fit(data_high_vanadium)\n",
        "print(f\"Параметры равномерного распределения: a={params_uniform[0]}, b={params_uniform[1]}\")\n",
        "\n",
        "ks_stat_norm, p_value_norm = ks_1samp(data_high_vanadium, norm.cdf, args=params_norm)\n",
        "print(f\"Тест Колмогорова-Смирнова для нормального распределения: Статистика={ks_stat_norm}, p-value={p_value_norm}\")\n",
        "\n",
        "ks_stat_uniform, p_value_uniform = ks_1samp(data_high_vanadium, uniform.cdf, args=params_uniform)\n",
        "print(f\"Тест Колмогорова-Смирнова для равномерного распределения: Статистика={ks_stat_uniform}, p-value={p_value_uniform}\")\n",
        "\n",
        "if p_value_norm > 0.05:\n",
        "    print(\"Данные могут быть из нормального распределения.\")\n",
        "else:\n",
        "    print(\"Данные НЕ могут быть из нормального распределения.\")\n",
        "\n",
        "if p_value_uniform > 0.05:\n",
        "    print(\"Данные могут быть из равномерного распределения.\")\n",
        "else:\n",
        "    print(\"Данные НЕ могут быть из равномерного распределения.\")\n",
        "\n",
        "x = np.linspace(min(data_high_vanadium), max(data_high_vanadium), 100)\n",
        "pdf_norm = norm.pdf(x, *params_norm)\n",
        "pdf_uniform = uniform.pdf(x, *params_uniform)\n",
        "\n",
        "plt.hist(data_high_vanadium, bins=15, density=True, alpha=0.6, color='g', label='Данные')\n",
        "plt.plot(x, pdf_norm, 'r-', label='Нормальное распределение')\n",
        "plt.plot(x, pdf_uniform, 'b-', label='Равномерное распределение')\n",
        "plt.legend()\n",
        "plt.show()"
      ],
      "metadata": {
        "id": "iLsIxGpqgzFq",
        "colab": {
          "base_uri": "https://localhost:8080/",
          "height": 534
        },
        "outputId": "38cd3e7b-7f06-4261-c8bf-e85182b9b2eb"
      },
      "execution_count": 142,
      "outputs": [
        {
          "output_type": "stream",
          "name": "stdout",
          "text": [
            "Параметры нормального распределения: mu=454.63, sigma=15.36483322395658\n",
            "Параметры равномерного распределения: a=424.0, b=70.0\n",
            "Тест Колмогорова-Смирнова для нормального распределения: Статистика=0.12297458336139966, p-value=0.40348287489497103\n",
            "Тест Колмогорова-Смирнова для равномерного распределения: Статистика=0.2242857142857143, p-value=0.010849882615900253\n",
            "Данные могут быть из нормального распределения.\n",
            "Данные НЕ могут быть из равномерного распределения.\n"
          ]
        },
        {
          "output_type": "display_data",
          "data": {
            "text/plain": [
              "<Figure size 640x480 with 1 Axes>"
            ],
            "image/png": "[encoded data removed]"
          },
          "metadata": {}
        }
      ]
    },
    {
      "cell_type": "markdown",
      "source": [
        "## Т-критерий\n",
        "### Задание 4\n",
        "Для данных, рассмотренных на лекции, вычислите средние значения и оцените значимость различия между средними. Используйте `ttest_ind` из `scipy`."
      ],
      "metadata": {
        "id": "dw7p5Af4uHnu"
      }
    },
    {
      "cell_type": "code",
      "source": [
        "example1 = pd.DataFrame({'Группа 1': [2, 3, 1],\n",
        "                         'Группа 2': [6, 7, 5]})\n",
        "\n",
        "mean_group1 = example1['Группа 1'].mean()\n",
        "mean_group2 = example1['Группа 2'].mean()\n",
        "\n",
        "print(f\"Среднее значение для Группы 1: {mean_group1}\")\n",
        "print(f\"Среднее значение для Группы 2: {mean_group2}\")\n",
        "\n",
        "\n",
        "t_stat, p_value = ttest_ind(example1['Группа 1'], example1['Группа 2'])\n",
        "\n",
        "print(f\"t-статистика: {t_stat}\")\n",
        "print(f\"p-значение: {p_value}\")\n",
        "\n",
        "\n",
        "if p_value < 0.05:\n",
        "    print(\"Различие между группами статистически значимо (p-value < 0.05).\")\n",
        "else:\n",
        "    print(\"Различие между группами НЕ статистически значимо (p-value >= 0.05).\")"
      ],
      "metadata": {
        "colab": {
          "base_uri": "https://localhost:8080/"
        },
        "id": "oK7gm7bVo1RT",
        "outputId": "9f83d074-8c81-4960-c276-24aa32cfef26"
      },
      "execution_count": 144,
      "outputs": [
        {
          "output_type": "stream",
          "name": "stdout",
          "text": [
            "Среднее значение для Группы 1: 2.0\n",
            "Среднее значение для Группы 2: 6.0\n",
            "t-статистика: -4.898979485566356\n",
            "p-значение: 0.00804989310083772\n",
            "Различие между группами статистически значимо (p-value < 0.05).\n"
          ]
        }
      ]
    },
    {
      "cell_type": "code",
      "source": [
        "### YOUR CODE HERE\n"
      ],
      "metadata": {
        "id": "Wt17vucipvRs"
      },
      "execution_count": null,
      "outputs": []
    },
    {
      "cell_type": "markdown",
      "source": [
        "Т-критерий Стьюдента помимо нормальности данных требует равенство дисперсий в группах. С помощью функции `levene` библиотеки `scipy` осуществите тест Левена для проверки равенства дисперсий для данных из задания 2 (прочность при разном содержании ванадия). Можно ли для них использовать Т-критерий Стьюдента?\n",
        "\n",
        "Оцените значимость различия между средними. Можно ли считать, что добавка ванадия повышает прочность стали?"
      ],
      "metadata": {
        "id": "qBnDNTclulfy"
      }
    },
    {
      "cell_type": "code",
      "source": [
        "stat_levene, p_value_levene = levene(v_low, v_high)\n",
        "print(f\"Статистика теста Левена: {stat_levene}\")\n",
        "print(f\"p-значение теста Левена: {p_value_levene}\")\n",
        "\n",
        "if p_value_levene > 0.05:\n",
        "    print(\"Дисперсии одинаковы, можно использовать Т-критерий Стьюдента.\")\n",
        "else:\n",
        "    print(\"Дисперсии разные, Т-критерий Стьюдента нельзя использовать.\")\n",
        "\n",
        "t_stat, p_value_ttest = ttest_ind(v_low, v_high)\n",
        "\n",
        "print(f\"t-статистика: {t_stat}\")\n",
        "print(f\"p-значение для Т-критерия Стьюдента: {p_value_ttest}\")\n",
        "\n",
        "if p_value_ttest < 0.05:\n",
        "    print(\"Различие между группами статистически значимо (p-value < 0.05).\")\n",
        "else:\n",
        "    print(\"Различие между группами не статистически значимо (p-value >= 0.05).\")\n",
        "if p_value_ttest < 0.05:\n",
        "    print(\"Добавка ванадия статистически значимо влияет на прочность стали.\")\n",
        "else:\n",
        "    print(\"Добавка ванадия не влияет на прочность стали на статистически значимом уровне.\")\n"
      ],
      "metadata": {
        "id": "vCR_MUHyq_JY",
        "colab": {
          "base_uri": "https://localhost:8080/"
        },
        "outputId": "41910f0d-8873-46c5-fdcc-4149b6897a1a"
      },
      "execution_count": 145,
      "outputs": [
        {
          "output_type": "stream",
          "name": "stdout",
          "text": [
            "Статистика теста Левена: 0.1216652615865412\n",
            "p-значение теста Левена: 0.7279836307088485\n",
            "Дисперсии одинаковы, можно использовать Т-критерий Стьюдента.\n",
            "t-статистика: -2.2652770285980943\n",
            "p-значение для Т-критерия Стьюдента: 0.025696870047471156\n",
            "Различие между группами статистически значимо (p-value < 0.05).\n",
            "Добавка ванадия статистически значимо влияет на прочность стали.\n"
          ]
        }
      ]
    },
    {
      "cell_type": "code",
      "source": [
        "### YOUR CODE HERE\n"
      ],
      "metadata": {
        "id": "001tI8GqruAM"
      },
      "execution_count": null,
      "outputs": []
    },
    {
      "cell_type": "markdown",
      "source": [
        "## Дисперсионный анализ\n"
      ],
      "metadata": {
        "id": "3HjCRzPevcbl"
      }
    },
    {
      "cell_type": "code",
      "source": [
        "example2 = pd.DataFrame({'Группа': [1, 1, 1, 2, 2, 2],\n",
        "                         'Значение': [2, 3, 1, 6, 7, 5]})\n",
        "\n",
        "group1 = example2[example2['Группа'] == 1]['Значение']\n",
        "group2 = example2[example2['Группа'] == 2]['Значение']\n",
        "\n",
        "f_stat, p_value = f_oneway(group1, group2)\n",
        "\n",
        "print(f\"F-статистика: {f_stat}\")\n",
        "print(f\"p-значение: {p_value}\", '\\n')\n",
        "\n",
        "if p_value < 0.05:\n",
        "    print(\"Различие между группами статистически значимо.\")\n",
        "else:\n",
        "    print(\"Различие между группами не статистически значимо.\")\n"
      ],
      "metadata": {
        "colab": {
          "base_uri": "https://localhost:8080/"
        },
        "id": "4eW8n3bekY7Y",
        "outputId": "5066c3d4-a52a-4837-ff1e-d952ed257355"
      },
      "execution_count": 146,
      "outputs": [
        {
          "output_type": "stream",
          "name": "stdout",
          "text": [
            "F-статистика: 24.0\n",
            "p-значение: 0.008049893100837719 \n",
            "\n",
            "Различие между группами статистически значимо.\n"
          ]
        }
      ]
    },
    {
      "cell_type": "markdown",
      "source": [
        "### Задание 5\n",
        "Библиотечная функция для дисперсионного анализа требует задать зависимую переменную и фактор в виде формулы типа `str`: `'Зависимая ~ C(Фактор)'`, где вместо слов \"Зависимая\" и \"Фактор\" должны стоять имена столбцов. Напишите функцию, которая будет формировать такую формулу."
      ],
      "metadata": {
        "id": "jgYAE7J1vonu"
      }
    },
    {
      "cell_type": "code",
      "source": [
        "def anova_formula(dependent: str, factor: str) -> str:\n",
        "    return f\"{dependent} ~ C({factor})\"\n",
        "\n",
        "formula = anova_formula('Значение', 'Группа')\n",
        "print(formula)\n"
      ],
      "metadata": {
        "id": "RTUeBq-Hj0Xs",
        "colab": {
          "base_uri": "https://localhost:8080/"
        },
        "outputId": "654c2605-83f6-40fd-d3a9-c8f3a04ce488"
      },
      "execution_count": 147,
      "outputs": [
        {
          "output_type": "stream",
          "name": "stdout",
          "text": [
            "Значение ~ C(Группа)\n"
          ]
        }
      ]
    },
    {
      "cell_type": "markdown",
      "source": [
        "Выполните код из следующих ячеек и проанализируйте результат."
      ],
      "metadata": {
        "id": "YzMnMGpDwdfM"
      }
    },
    {
      "cell_type": "code",
      "source": [
        "import statsmodels.api as sm\n",
        "from statsmodels.formula.api import ols\n",
        "\n",
        "def anova(df: pd.DataFrame,\n",
        "          dependent: str,\n",
        "          factor: str):\n",
        "\n",
        "    formula = anova_formula(dependent, factor)\n",
        "    model = ols(formula, data=df).fit()\n",
        "    res = sm.stats.anova_lm(model, typ=2)\n",
        "\n",
        "    return res"
      ],
      "metadata": {
        "id": "FfoWKUkzkjgU"
      },
      "execution_count": 148,
      "outputs": []
    },
    {
      "cell_type": "code",
      "source": [
        "anova(example2, 'Значение', 'Группа')"
      ],
      "metadata": {
        "id": "yAHFpjapxpss",
        "colab": {
          "base_uri": "https://localhost:8080/",
          "height": 112
        },
        "outputId": "f01d4abb-fcec-4ea8-ea49-accbbd30838e"
      },
      "execution_count": 149,
      "outputs": [
        {
          "output_type": "execute_result",
          "data": {
            "text/plain": [
              "           sum_sq   df     F   PR(>F)\n",
              "C(Группа)    24.0  1.0  24.0  0.00805\n",
              "Residual      4.0  4.0   NaN      NaN"
            ],
            "text/html": [
              "\n",
              "  <div id=\"df-853a54fb-4007-4e53-bacf-7b12b2267733\" class=\"colab-df-container\">\n",
              "    <div>\n",
              "<style scoped>\n",
              "    .dataframe tbody tr th:only-of-type {\n",
              "        vertical-align: middle;\n",
              "    }\n",
              "\n",
              "    .dataframe tbody tr th {\n",
              "        vertical-align: top;\n",
              "    }\n",
              "\n",
              "    .dataframe thead th {\n",
              "        text-align: right;\n",
              "    }\n",
              "</style>\n",
              "<table border=\"1\" class=\"dataframe\">\n",
              "  <thead>\n",
              "    <tr style=\"text-align: right;\">\n",
              "      <th></th>\n",
              "      <th>sum_sq</th>\n",
              "      <th>df</th>\n",
              "      <th>F</th>\n",
              "      <th>PR(&gt;F)</th>\n",
              "    </tr>\n",
              "  </thead>\n",
              "  <tbody>\n",
              "    <tr>\n",
              "      <th>C(Группа)</th>\n",
              "      <td>24.0</td>\n",
              "      <td>1.0</td>\n",
              "      <td>24.0</td>\n",
              "      <td>0.00805</td>\n",
              "    </tr>\n",
              "    <tr>\n",
              "      <th>Residual</th>\n",
              "      <td>4.0</td>\n",
              "      <td>4.0</td>\n",
              "      <td>NaN</td>\n",
              "      <td>NaN</td>\n",
              "    </tr>\n",
              "  </tbody>\n",
              "</table>\n",
              "</div>\n",
              "    <div class=\"colab-df-buttons\">\n",
              "\n",
              "  <div class=\"colab-df-container\">\n",
              "    <button class=\"colab-df-convert\" onclick=\"convertToInteractive('df-853a54fb-4007-4e53-bacf-7b12b2267733')\"\n",
              "            title=\"Convert this dataframe to an interactive table.\"\n",
              "            style=\"display:none;\">\n",
              "\n",
              "  <svg xmlns=\"http://www.w3.org/2000/svg\" height=\"24px\" viewBox=\"0 -960 960 960\">\n",
              "    <path d=\"M120-120v-720h720v720H120Zm60-500h600v-160H180v160Zm220 220h160v-160H400v160Zm0 220h160v-160H400v160ZM180-400h160v-160H180v160Zm440 0h160v-160H620v160ZM180-180h160v-160H180v160Zm440 0h160v-160H620v160Z\"/>\n",
              "  </svg>\n",
              "    </button>\n",
              "\n",
              "  <style>\n",
              "    .colab-df-container {\n",
              "      display:flex;\n",
              "      gap: 12px;\n",
              "    }\n",
              "\n",
              "    .colab-df-convert {\n",
              "      background-color: #E8F0FE;\n",
              "      border: none;\n",
              "      border-radius: 50%;\n",
              "      cursor: pointer;\n",
              "      display: none;\n",
              "      fill: #1967D2;\n",
              "      height: 32px;\n",
              "      padding: 0 0 0 0;\n",
              "      width: 32px;\n",
              "    }\n",
              "\n",
              "    .colab-df-convert:hover {\n",
              "      background-color: #E2EBFA;\n",
              "      box-shadow: 0px 1px 2px rgba(60, 64, 67, 0.3), 0px 1px 3px 1px rgba(60, 64, 67, 0.15);\n",
              "      fill: #174EA6;\n",
              "    }\n",
              "\n",
              "    .colab-df-buttons div {\n",
              "      margin-bottom: 4px;\n",
              "    }\n",
              "\n",
              "    [theme=dark] .colab-df-convert {\n",
              "      background-color: #3B4455;\n",
              "      fill: #D2E3FC;\n",
              "    }\n",
              "\n",
              "    [theme=dark] .colab-df-convert:hover {\n",
              "      background-color: #434B5C;\n",
              "      box-shadow: 0px 1px 3px 1px rgba(0, 0, 0, 0.15);\n",
              "      filter: drop-shadow(0px 1px 2px rgba(0, 0, 0, 0.3));\n",
              "      fill: #FFFFFF;\n",
              "    }\n",
              "  </style>\n",
              "\n",
              "    <script>\n",
              "      const buttonEl =\n",
              "        document.querySelector('#df-853a54fb-4007-4e53-bacf-7b12b2267733 button.colab-df-convert');\n",
              "      buttonEl.style.display =\n",
              "        google.colab.kernel.accessAllowed ? 'block' : 'none';\n",
              "\n",
              "      async function convertToInteractive(key) {\n",
              "        const element = document.querySelector('#df-853a54fb-4007-4e53-bacf-7b12b2267733');\n",
              "        const dataTable =\n",
              "          await google.colab.kernel.invokeFunction('convertToInteractive',\n",
              "                                                    [key], {});\n",
              "        if (!dataTable) return;\n",
              "\n",
              "        const docLinkHtml = 'Like what you see? Visit the ' +\n",
              "          '<a target=\"_blank\" href=https://colab.research.google.com/notebooks/data_table.ipynb>data table notebook</a>'\n",
              "          + ' to learn more about interactive tables.';\n",
              "        element.innerHTML = '';\n",
              "        dataTable['output_type'] = 'display_data';\n",
              "        await google.colab.output.renderOutput(dataTable, element);\n",
              "        const docLink = document.createElement('div');\n",
              "        docLink.innerHTML = docLinkHtml;\n",
              "        element.appendChild(docLink);\n",
              "      }\n",
              "    </script>\n",
              "  </div>\n",
              "\n",
              "\n",
              "<div id=\"df-98f0a6bb-4179-42e3-b024-4ec20a7ef2f2\">\n",
              "  <button class=\"colab-df-quickchart\" onclick=\"quickchart('df-98f0a6bb-4179-42e3-b024-4ec20a7ef2f2')\"\n",
              "            title=\"Suggest charts\"\n",
              "            style=\"display:none;\">\n",
              "\n",
              "<svg xmlns=\"http://www.w3.org/2000/svg\" height=\"24px\"viewBox=\"0 0 24 24\"\n",
              "     width=\"24px\">\n",
              "    <g>\n",
              "        <path d=\"M19 3H5c-1.1 0-2 .9-2 2v14c0 1.1.9 2 2 2h14c1.1 0 2-.9 2-2V5c0-1.1-.9-2-2-2zM9 17H7v-7h2v7zm4 0h-2V7h2v10zm4 0h-2v-4h2v4z\"/>\n",
              "    </g>\n",
              "</svg>\n",
              "  </button>\n",
              "\n",
              "<style>\n",
              "  .colab-df-quickchart {\n",
              "      --bg-color: #E8F0FE;\n",
              "      --fill-color: #1967D2;\n",
              "      --hover-bg-color: #E2EBFA;\n",
              "      --hover-fill-color: #174EA6;\n",
              "      --disabled-fill-color: #AAA;\n",
              "      --disabled-bg-color: #DDD;\n",
              "  }\n",
              "\n",
              "  [theme=dark] .colab-df-quickchart {\n",
              "      --bg-color: #3B4455;\n",
              "      --fill-color: #D2E3FC;\n",
              "      --hover-bg-color: #434B5C;\n",
              "      --hover-fill-color: #FFFFFF;\n",
              "      --disabled-bg-color: #3B4455;\n",
              "      --disabled-fill-color: #666;\n",
              "  }\n",
              "\n",
              "  .colab-df-quickchart {\n",
              "    background-color: var(--bg-color);\n",
              "    border: none;\n",
              "    border-radius: 50%;\n",
              "    cursor: pointer;\n",
              "    display: none;\n",
              "    fill: var(--fill-color);\n",
              "    height: 32px;\n",
              "    padding: 0;\n",
              "    width: 32px;\n",
              "  }\n",
              "\n",
              "  .colab-df-quickchart:hover {\n",
              "    background-color: var(--hover-bg-color);\n",
              "    box-shadow: 0 1px 2px rgba(60, 64, 67, 0.3), 0 1px 3px 1px rgba(60, 64, 67, 0.15);\n",
              "    fill: var(--button-hover-fill-color);\n",
              "  }\n",
              "\n",
              "  .colab-df-quickchart-complete:disabled,\n",
              "  .colab-df-quickchart-complete:disabled:hover {\n",
              "    background-color: var(--disabled-bg-color);\n",
              "    fill: var(--disabled-fill-color);\n",
              "    box-shadow: none;\n",
              "  }\n",
              "\n",
              "  .colab-df-spinner {\n",
              "    border: 2px solid var(--fill-color);\n",
              "    border-color: transparent;\n",
              "    border-bottom-color: var(--fill-color);\n",
              "    animation:\n",
              "      spin 1s steps(1) infinite;\n",
              "  }\n",
              "\n",
              "  @keyframes spin {\n",
              "    0% {\n",
              "      border-color: transparent;\n",
              "      border-bottom-color: var(--fill-color);\n",
              "      border-left-color: var(--fill-color);\n",
              "    }\n",
              "    20% {\n",
              "      border-color: transparent;\n",
              "      border-left-color: var(--fill-color);\n",
              "      border-top-color: var(--fill-color);\n",
              "    }\n",
              "    30% {\n",
              "      border-color: transparent;\n",
              "      border-left-color: var(--fill-color);\n",
              "      border-top-color: var(--fill-color);\n",
              "      border-right-color: var(--fill-color);\n",
              "    }\n",
              "    40% {\n",
              "      border-color: transparent;\n",
              "      border-right-color: var(--fill-color);\n",
              "      border-top-color: var(--fill-color);\n",
              "    }\n",
              "    60% {\n",
              "      border-color: transparent;\n",
              "      border-right-color: var(--fill-color);\n",
              "    }\n",
              "    80% {\n",
              "      border-color: transparent;\n",
              "      border-right-color: var(--fill-color);\n",
              "      border-bottom-color: var(--fill-color);\n",
              "    }\n",
              "    90% {\n",
              "      border-color: transparent;\n",
              "      border-bottom-color: var(--fill-color);\n",
              "    }\n",
              "  }\n",
              "</style>\n",
              "\n",
              "  <script>\n",
              "    async function quickchart(key) {\n",
              "      const quickchartButtonEl =\n",
              "        document.querySelector('#' + key + ' button');\n",
              "      quickchartButtonEl.disabled = true;  // To prevent multiple clicks.\n",
              "      quickchartButtonEl.classList.add('colab-df-spinner');\n",
              "      try {\n",
              "        const charts = await google.colab.kernel.invokeFunction(\n",
              "            'suggestCharts', [key], {});\n",
              "      } catch (error) {\n",
              "        console.error('Error during call to suggestCharts:', error);\n",
              "      }\n",
              "      quickchartButtonEl.classList.remove('colab-df-spinner');\n",
              "      quickchartButtonEl.classList.add('colab-df-quickchart-complete');\n",
              "    }\n",
              "    (() => {\n",
              "      let quickchartButtonEl =\n",
              "        document.querySelector('#df-98f0a6bb-4179-42e3-b024-4ec20a7ef2f2 button');\n",
              "      quickchartButtonEl.style.display =\n",
              "        google.colab.kernel.accessAllowed ? 'block' : 'none';\n",
              "    })();\n",
              "  </script>\n",
              "</div>\n",
              "\n",
              "    </div>\n",
              "  </div>\n"
            ],
            "application/vnd.google.colaboratory.intrinsic+json": {
              "type": "dataframe",
              "summary": "{\n  \"name\": \"anova(example2, '\\u0417\\u043d\\u0430\\u0447\\u0435\\u043d\\u0438\\u0435', '\\u0413\\u0440\\u0443\\u043f\\u043f\\u0430')\",\n  \"rows\": 2,\n  \"fields\": [\n    {\n      \"column\": \"sum_sq\",\n      \"properties\": {\n        \"dtype\": \"number\",\n        \"std\": 14.142135623730933,\n        \"min\": 4.0,\n        \"max\": 23.999999999999975,\n        \"num_unique_values\": 2,\n        \"samples\": [\n          4.0,\n          23.999999999999975\n        ],\n        \"semantic_type\": \"\",\n        \"description\": \"\"\n      }\n    },\n    {\n      \"column\": \"df\",\n      \"properties\": {\n        \"dtype\": \"number\",\n        \"std\": 2.1213203435596424,\n        \"min\": 1.0,\n        \"max\": 4.0,\n        \"num_unique_values\": 2,\n        \"samples\": [\n          4.0,\n          1.0\n        ],\n        \"semantic_type\": \"\",\n        \"description\": \"\"\n      }\n    },\n    {\n      \"column\": \"F\",\n      \"properties\": {\n        \"dtype\": \"number\",\n        \"std\": null,\n        \"min\": 23.999999999999975,\n        \"max\": 23.999999999999975,\n        \"num_unique_values\": 1,\n        \"samples\": [\n          23.999999999999975\n        ],\n        \"semantic_type\": \"\",\n        \"description\": \"\"\n      }\n    },\n    {\n      \"column\": \"PR(>F)\",\n      \"properties\": {\n        \"dtype\": \"number\",\n        \"std\": null,\n        \"min\": 0.008049893100837735,\n        \"max\": 0.008049893100837735,\n        \"num_unique_values\": 1,\n        \"samples\": [\n          0.008049893100837735\n        ],\n        \"semantic_type\": \"\",\n        \"description\": \"\"\n      }\n    }\n  ]\n}"
            }
          },
          "metadata": {},
          "execution_count": 149
        }
      ]
    },
    {
      "cell_type": "markdown",
      "source": [
        "F-статистика для фактора \"Группа\" составляет 24.0, что указывает на значительное объяснение вариации в данных этим фактором.\n",
        "\n",
        "p-значение для теста равно 0.00805, что меньше уровня значимости 0.05. Это означает, что различия между группами статистически значимы.\n",
        "\n",
        "Сумма квадратов для фактора \"Группа\" составляет 24.0, что подтверждает наличие значимой вариации между группами. Остаточная сумма квадратов — 4.0."
      ],
      "metadata": {
        "id": "2EnYO4-VLJjx"
      }
    },
    {
      "cell_type": "markdown",
      "source": [
        "### Задание 6\n",
        "Загрузите файл `Марки стали.xlsx` он содержит данные о прочности стали трёх марок. Выясните, есть ли значимое различие в прочности?"
      ],
      "metadata": {
        "id": "o9ayouedwoyf"
      }
    },
    {
      "cell_type": "code",
      "source": [
        "df = pd.read_excel(\"Марки стали.xlsx\")\n",
        "\n",
        "print(df['Марка'].unique())\n",
        "df['Марка'] = df['Марка'].astype('category')\n",
        "\n",
        "anova_result = anova(df, 'Предел_текучести', 'Марка')\n",
        "print(anova_result, '\\n')\n",
        "\n",
        "\n",
        "if anova_result[\"PR(>F)\"].iloc[0] < 0.05:\n",
        "    print(\"Существует статистически значимое различие в прочности между марками стали.\")\n",
        "else:\n",
        "    print(\"Различия в прочности между марками стали статистически незначимы.\")"
      ],
      "metadata": {
        "id": "rcw_psNtldiZ",
        "colab": {
          "base_uri": "https://localhost:8080/"
        },
        "outputId": "1ad6238b-2354-4014-8d51-37a3c8d3da55"
      },
      "execution_count": 150,
      "outputs": [
        {
          "output_type": "stream",
          "name": "stdout",
          "text": [
            "['СТ3СП' '09ГСФ' 'С345']\n",
            "                sum_sq    df           F        PR(>F)\n",
            "C(Марка)  93957.266667   2.0  402.661217  7.933671e-21\n",
            "Residual   3150.100000  27.0         NaN           NaN \n",
            "\n",
            "Существует статистически значимое различие в прочности между марками стали.\n"
          ]
        }
      ]
    },
    {
      "cell_type": "code",
      "source": [
        "# YOUR CODE HERE\n"
      ],
      "metadata": {
        "id": "5h4zxRXkluzZ"
      },
      "execution_count": 95,
      "outputs": []
    },
    {
      "cell_type": "markdown",
      "source": [
        "Данные удобно отображать на графике средних с ошибками."
      ],
      "metadata": {
        "id": "97nqzlTexACc"
      }
    },
    {
      "cell_type": "code",
      "source": [
        "def means_plot(df, value_var, group_var):\n",
        "    grouped = df.groupby(by=group_var, observed=False)\n",
        "    means = grouped.mean()\n",
        "    sigmas = grouped.std()\n",
        "\n",
        "    plt.errorbar(means.index.astype(str), means[value_var],\n",
        "                 yerr=sigmas[value_var],\n",
        "                 fmt='-o',\n",
        "                 capsize=3)\n",
        "    plt.xlabel(group_var)\n",
        "    plt.ylabel(value_var)\n",
        "    plt.show()"
      ],
      "metadata": {
        "id": "VoYeF3EPlzeY"
      },
      "execution_count": 151,
      "outputs": []
    },
    {
      "cell_type": "code",
      "source": [
        "means_plot(df, 'Предел_текучести', 'Марка')"
      ],
      "metadata": {
        "id": "nMcYFgzKmKDg",
        "colab": {
          "base_uri": "https://localhost:8080/",
          "height": 449
        },
        "outputId": "090f8444-5a22-4376-fb9e-9c15ac024779"
      },
      "execution_count": 152,
      "outputs": [
        {
          "output_type": "display_data",
          "data": {
            "text/plain": [
              "<Figure size 640x480 with 1 Axes>"
            ],
            "image/png": "[encoded data removed]"
          },
          "metadata": {}
        }
      ]
    },
    {
      "cell_type": "markdown",
      "source": [
        "### Задание 7\n",
        "Чтобы провести многофакторный дисперсионный анализ, нужно добавить в формулу все факторы, а также желаемые взаимодействия.\n",
        "`Зависимая ~ C(A) + C(B) + C(A):C(B)`\n",
        "\n",
        "Мы будем рассматривать два фактора, поэтому достаточно доработать функцию для формулы так, чтобы она добавляла их и их взаимодействие. Однако, вы можете реализовать функцию для общего случая, где в формуле может быть произвольное число факторов и всевозможные взаимодействия пар, троек и т.д.\n",
        "\n",
        "Напишите функции для формулы и для дисперсионного анализа. Проведите анализ для приведённых примеров."
      ],
      "metadata": {
        "id": "pucPIiFZxQUP"
      }
    },
    {
      "cell_type": "code",
      "source": [
        "# YOUR CODE HERE\n"
      ],
      "metadata": {
        "id": "3lAzftFHmRMt"
      },
      "execution_count": null,
      "outputs": []
    },
    {
      "cell_type": "code",
      "source": [
        "def anova_formula(dependent: str, factors: list) -> str:\n",
        "    formula = dependent + \" ~ \" + \" + \".join([f\"C({factor})\" for factor in factors])\n",
        "    if len(factors) == 2:\n",
        "        formula += \" + C(\" + factors[0] + \")*C(\" + factors[1] + \")\"\n",
        "\n",
        "    return formula\n",
        "\n",
        "def anova(df: pd.DataFrame, dependent: str, factors: list):\n",
        "    formula = anova_formula(dependent, factors)\n",
        "    model = ols(formula, data=df).fit()\n",
        "    res = sm.stats.anova_lm(model, typ=2)\n",
        "    return res\n",
        "\n",
        "\n",
        "example3 = pd.DataFrame({'Пол': ['м'] * 6 + ['ж'] * 6,\n",
        "                         'Группа': [1, 1, 1, 2, 2, 2] * 2,\n",
        "                         'Значение': [2, 3, 1, 6, 7, 5, 4, 5, 3, 8, 9, 7]})\n",
        "anova_result = anova(example3, 'Значение', ['Пол', 'Группа'])\n",
        "\n",
        "print(anova_result)\n",
        "\n",
        "if anova_result[\"PR(>F)\"].iloc[0] < 0.05:\n",
        "    print(\"Существует статистически значимое различие по фактору Пол.\")\n",
        "if anova_result[\"PR(>F)\"].iloc[1] < 0.05:\n",
        "    print(\"Существует статистически значимое различие по фактору Группа.\")\n",
        "if anova_result[\"PR(>F)\"].iloc[2] < 0.05:\n",
        "    print(\"Существует статистически значимое взаимодействие между Полом и Группой.\")"
      ],
      "metadata": {
        "colab": {
          "base_uri": "https://localhost:8080/"
        },
        "id": "vl9g2FW2nZTm",
        "outputId": "f38f72e7-40d4-41ed-8a32-048176661321"
      },
      "execution_count": 153,
      "outputs": [
        {
          "output_type": "stream",
          "name": "stdout",
          "text": [
            "                        sum_sq   df             F    PR(>F)\n",
            "C(Пол)            1.200000e+01  1.0  1.200000e+01  0.008516\n",
            "C(Группа)         4.800000e+01  1.0  4.800000e+01  0.000121\n",
            "C(Пол):C(Группа)  5.339602e-29  1.0  5.339602e-29  1.000000\n",
            "Residual          8.000000e+00  8.0           NaN       NaN\n",
            "Существует статистически значимое различие по фактору Пол.\n",
            "Существует статистически значимое различие по фактору Группа.\n"
          ]
        }
      ]
    },
    {
      "cell_type": "code",
      "source": [
        "# YOUR CODE HERE"
      ],
      "metadata": {
        "id": "BOqfaK7wnaYO"
      },
      "execution_count": null,
      "outputs": []
    },
    {
      "cell_type": "code",
      "source": [
        "example4 = pd.DataFrame({'Пол': ['м'] * 6 + ['ж'] * 6,\n",
        "                         'Группа': [1, 1, 1, 2, 2, 2] * 2,\n",
        "                         'Значение': [10, 12, 8, 5, 7, 3, 5, 7, 3, 10, 12, 8]})\n",
        "anova_result = anova(example3, 'Значение', ['Пол', 'Группа'])\n",
        "print(anova_result)\n",
        "\n",
        "if anova_result[\"PR(>F)\"].iloc[0] < 0.05:\n",
        "    print(\"Существует статистически значимое различие по фактору Пол.\")\n",
        "if anova_result[\"PR(>F)\"].iloc[1] < 0.05:\n",
        "    print(\"Существует статистически значимое различие по фактору Группа.\")\n",
        "if anova_result[\"PR(>F)\"].iloc[2] < 0.05:\n",
        "    print(\"Существует статистически значимое взаимодействие между Полом и Группой.\")"
      ],
      "metadata": {
        "colab": {
          "base_uri": "https://localhost:8080/"
        },
        "id": "rX57Aw_FoC_i",
        "outputId": "26e228c2-96ed-4c98-cf58-2f8139fb450a"
      },
      "execution_count": 154,
      "outputs": [
        {
          "output_type": "stream",
          "name": "stdout",
          "text": [
            "                        sum_sq   df             F    PR(>F)\n",
            "C(Пол)            1.200000e+01  1.0  1.200000e+01  0.008516\n",
            "C(Группа)         4.800000e+01  1.0  4.800000e+01  0.000121\n",
            "C(Пол):C(Группа)  5.339602e-29  1.0  5.339602e-29  1.000000\n",
            "Residual          8.000000e+00  8.0           NaN       NaN\n",
            "Существует статистически значимое различие по фактору Пол.\n",
            "Существует статистически значимое различие по фактору Группа.\n"
          ]
        }
      ]
    },
    {
      "cell_type": "code",
      "source": [
        "# YOUR CODE HERE"
      ],
      "metadata": {
        "id": "fcyPQ9ggoL0d"
      },
      "execution_count": null,
      "outputs": []
    },
    {
      "cell_type": "markdown",
      "source": [
        "### Задание 8\n",
        "Загрузите файл `Электропроводность.xlsx`. Изучите зависимость электропроводности алюминия от его чистоты и температуры окружающей среды."
      ],
      "metadata": {
        "id": "TPMoFeZYyXbu"
      }
    },
    {
      "cell_type": "code",
      "source": [
        "f = open(\"Электропроводность.csv\", encoding='windows-1251')\n",
        "s = f.readline()\n",
        "s = s.split(';')\n",
        "a = [[] for i in range(3)]\n",
        "s[2] = s[2][:-1]\n",
        "for i in f:\n",
        "    j = i\n",
        "    j = j.replace(',', '.')\n",
        "    j = j.split(';')\n",
        "    a[0].append(int(j[0]))\n",
        "    a[1].append(j[1])\n",
        "    a[2].append(float(j[2]))\n",
        "\n",
        "data = {\n",
        "    s[0]: a[0],\n",
        "    s[1]: a[1],\n",
        "    s[2]: a[2]\n",
        "}\n",
        "df = pd.DataFrame(data)\n",
        "df['Чистота_алюминия'] = df['Чистота_алюминия'].map({'высокая': 1, 'низкая': 0})\n",
        "\n",
        "model = ols('Электропроводность ~ Температура + Чистота_алюминия + Температура:Чистота_алюминия', data=df).fit()\n",
        "anova_result = sm.stats.anova_lm(model, typ=2)\n",
        "print(anova_result)\n",
        "\n",
        "if anova_result[\"PR(>F)\"].iloc[0] < 0.05:\n",
        "    print(\"Существует статистически значимое различие по фактору Температура.\")\n",
        "else:\n",
        "    print(\"Различий по фактору Температура нет.\")\n",
        "\n",
        "if anova_result[\"PR(>F)\"].iloc[1] < 0.05:\n",
        "    print(\"Существует статистически значимое различие по фактору Чистота алюминия.\")\n",
        "else:\n",
        "    print(\"Различий по фактору Чистота алюминия нет.\")\n",
        "\n",
        "if anova_result[\"PR(>F)\"].iloc[2] < 0.05:\n",
        "    print(\"Существует статистически значимое взаимодействие между температурой и чистотой алюминия.\")\n",
        "else:\n",
        "    print(\"Взаимодействия между температурой и чистотой алюминия статистически незначимы.\")\n"
      ],
      "metadata": {
        "id": "HeoGarYNoM4D",
        "colab": {
          "base_uri": "https://localhost:8080/"
        },
        "outputId": "f24fa3ba-8a83-47da-916c-aeabb027086d"
      },
      "execution_count": 155,
      "outputs": [
        {
          "output_type": "stream",
          "name": "stdout",
          "text": [
            "                                sum_sq    df           F        PR(>F)\n",
            "Температура                   1.404500   1.0  181.076033  3.178171e-13\n",
            "Чистота_алюминия              0.341333   1.0   44.006612  4.899819e-07\n",
            "Температура:Чистота_алюминия  0.004500   1.0    0.580165  4.531017e-01\n",
            "Residual                      0.201667  26.0         NaN           NaN\n",
            "Существует статистически значимое различие по фактору Температура.\n",
            "Существует статистически значимое различие по фактору Чистота алюминия.\n",
            "Взаимодействия между температурой и чистотой алюминия статистически незначимы.\n"
          ]
        }
      ]
    },
    {
      "cell_type": "code",
      "source": [
        "# YOUR CODE HERE\n"
      ],
      "metadata": {
        "id": "ZQ1S2wWRquRN"
      },
      "execution_count": null,
      "outputs": []
    },
    {
      "cell_type": "code",
      "source": [],
      "metadata": {
        "id": "jVK4UQVFq7bV"
      },
      "execution_count": null,
      "outputs": []
    }
  ]
}